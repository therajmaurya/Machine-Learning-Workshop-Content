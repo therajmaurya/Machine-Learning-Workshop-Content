{
 "cells": [
  {
   "cell_type": "code",
   "execution_count": 36,
   "metadata": {
    "collapsed": true
   },
   "outputs": [],
   "source": [
    "# reading the dataset\n",
    "\n",
    "import os\n",
    "import io\n",
    "import numpy\n",
    "from pandas import DataFrame\n",
    "from sklearn.feature_extraction.text import CountVectorizer\n",
    "from sklearn.naive_bayes import MultinomialNB, GaussianNB\n",
    "\n",
    "def readFiles(path):\n",
    "    for root, dirnames, filenames in os.walk(path):\n",
    "        for filename in filenames:\n",
    "            path = os.path.join(root, filename)\n",
    "\n",
    "            inBody = False\n",
    "            lines = []\n",
    "            f = io.open(path, 'r', encoding='latin1')\n",
    "            for line in f:\n",
    "                if inBody:\n",
    "                    lines.append(line)\n",
    "                elif line == '\\n':\n",
    "                    inBody = True\n",
    "            f.close()\n",
    "            message = '\\n'.join(lines)\n",
    "            yield path, message\n",
    "\n",
    "\n",
    "def dataFrameFromDirectory(path, classification):\n",
    "    rows = []\n",
    "    index = []\n",
    "    for filename, message in readFiles(path):\n",
    "        rows.append({'message': message, 'class': classification})\n",
    "        index.append(filename)\n",
    "\n",
    "    return DataFrame(rows, index=index)\n",
    "\n",
    "data = DataFrame({'message': [], 'class': []})\n",
    "\n",
    "data = data.append(dataFrameFromDirectory(r'data/emails/spam', 'spam'))\n",
    "data = data.append(dataFrameFromDirectory(r'data/emails/spam', 'ham'))\n"
   ]
  },
  {
   "cell_type": "code",
   "execution_count": 37,
   "metadata": {
    "collapsed": false
   },
   "outputs": [
    {
     "data": {
      "text/html": [
       "<div>\n",
       "<table border=\"1\" class=\"dataframe\">\n",
       "  <thead>\n",
       "    <tr style=\"text-align: right;\">\n",
       "      <th></th>\n",
       "      <th>class</th>\n",
       "      <th>message</th>\n",
       "    </tr>\n",
       "  </thead>\n",
       "  <tbody>\n",
       "    <tr>\n",
       "      <th>data/emails/spam\\00001.7848dde101aa985090474a91ec93fcf0</th>\n",
       "      <td>spam</td>\n",
       "      <td>&lt;!DOCTYPE HTML PUBLIC \"-//W3C//DTD HTML 4.0 Tr...</td>\n",
       "    </tr>\n",
       "    <tr>\n",
       "      <th>data/emails/spam\\00002.d94f1b97e48ed3b553b3508d116e6a09</th>\n",
       "      <td>spam</td>\n",
       "      <td>1) Fight The Risk of Cancer!\\n\\nhttp://www.adc...</td>\n",
       "    </tr>\n",
       "    <tr>\n",
       "      <th>data/emails/spam\\00003.2ee33bc6eacdb11f38d052c44819ba6c</th>\n",
       "      <td>spam</td>\n",
       "      <td>1) Fight The Risk of Cancer!\\n\\nhttp://www.adc...</td>\n",
       "    </tr>\n",
       "    <tr>\n",
       "      <th>data/emails/spam\\00004.eac8de8d759b7e74154f142194282724</th>\n",
       "      <td>spam</td>\n",
       "      <td>##############################################...</td>\n",
       "    </tr>\n",
       "    <tr>\n",
       "      <th>data/emails/spam\\00005.57696a39d7d84318ce497886896bf90d</th>\n",
       "      <td>spam</td>\n",
       "      <td>I thought you might like these:\\n\\n1) Slim Dow...</td>\n",
       "    </tr>\n",
       "  </tbody>\n",
       "</table>\n",
       "</div>"
      ],
      "text/plain": [
       "                                                   class  \\\n",
       "data/emails/spam\\00001.7848dde101aa985090474a91...  spam   \n",
       "data/emails/spam\\00002.d94f1b97e48ed3b553b3508d...  spam   \n",
       "data/emails/spam\\00003.2ee33bc6eacdb11f38d052c4...  spam   \n",
       "data/emails/spam\\00004.eac8de8d759b7e74154f1421...  spam   \n",
       "data/emails/spam\\00005.57696a39d7d84318ce497886...  spam   \n",
       "\n",
       "                                                                                              message  \n",
       "data/emails/spam\\00001.7848dde101aa985090474a91...  <!DOCTYPE HTML PUBLIC \"-//W3C//DTD HTML 4.0 Tr...  \n",
       "data/emails/spam\\00002.d94f1b97e48ed3b553b3508d...  1) Fight The Risk of Cancer!\\n\\nhttp://www.adc...  \n",
       "data/emails/spam\\00003.2ee33bc6eacdb11f38d052c4...  1) Fight The Risk of Cancer!\\n\\nhttp://www.adc...  \n",
       "data/emails/spam\\00004.eac8de8d759b7e74154f1421...  ##############################################...  \n",
       "data/emails/spam\\00005.57696a39d7d84318ce497886...  I thought you might like these:\\n\\n1) Slim Dow...  "
      ]
     },
     "execution_count": 37,
     "metadata": {},
     "output_type": "execute_result"
    }
   ],
   "source": [
    "data.head()"
   ]
  },
  {
   "cell_type": "markdown",
   "metadata": {},
   "source": [
    "Now we will use a CountVectorizer to split up each message into its list of words, and throw that into a MultinomialNB classifier. Call fit() and we've got a trained spam filter ready to go! It's just that easy."
   ]
  },
  {
   "cell_type": "code",
   "execution_count": 38,
   "metadata": {
    "collapsed": false
   },
   "outputs": [
    {
     "name": "stdout",
     "output_type": "stream",
     "text": [
      "  (0, 12496)\t1\n",
      "  (0, 17635)\t5\n",
      "  (0, 27488)\t1\n",
      "  (0, 35042)\t1\n",
      "  (0, 12977)\t1\n",
      "  (0, 32767)\t1\n",
      "  (0, 13775)\t1\n",
      "  (0, 17025)\t2\n",
      "  (0, 22954)\t2\n",
      "  (0, 10959)\t2\n",
      "  (0, 2233)\t28\n",
      "  (0, 32210)\t1\n",
      "  (0, 10181)\t1\n",
      "  (0, 2421)\t1\n",
      "  (0, 660)\t1\n",
      "  (0, 17643)\t2\n",
      "  (0, 13991)\t1\n",
      "  (0, 2336)\t1\n",
      "  (0, 37605)\t1\n",
      "  (0, 23530)\t1\n",
      "  (0, 0)\t1\n",
      "  (0, 1424)\t1\n",
      "  (0, 512)\t1\n",
      "  (0, 23930)\t1\n",
      "  (0, 2351)\t1\n",
      "  :\t:\n",
      "  (999, 39360)\t1\n",
      "  (999, 38874)\t1\n",
      "  (999, 39347)\t1\n",
      "  (999, 39115)\t1\n",
      "  (999, 23802)\t1\n",
      "  (999, 16712)\t2\n",
      "  (999, 39332)\t2\n",
      "  (999, 39331)\t2\n",
      "  (999, 39507)\t2\n",
      "  (999, 38872)\t2\n",
      "  (999, 39386)\t1\n",
      "  (999, 39452)\t1\n",
      "  (999, 39283)\t1\n",
      "  (999, 38900)\t1\n",
      "  (999, 38955)\t1\n",
      "  (999, 38883)\t1\n",
      "  (999, 39328)\t1\n",
      "  (999, 38958)\t1\n",
      "  (999, 39468)\t1\n",
      "  (999, 39090)\t1\n",
      "  (999, 38957)\t1\n",
      "  (999, 38823)\t1\n",
      "  (999, 39503)\t1\n",
      "  (999, 22391)\t1\n",
      "  (999, 29868)\t1\n"
     ]
    }
   ],
   "source": [
    "vectorizer = CountVectorizer()\n",
    "counts = vectorizer.fit_transform(data['message'].values)\n",
    "print(counts)"
   ]
  },
  {
   "cell_type": "code",
   "execution_count": 39,
   "metadata": {
    "collapsed": false
   },
   "outputs": [],
   "source": [
    "targets = data['class'].values\n",
    "# print(targets)"
   ]
  },
  {
   "cell_type": "code",
   "execution_count": 40,
   "metadata": {
    "collapsed": false
   },
   "outputs": [
    {
     "data": {
      "text/plain": [
       "MultinomialNB(alpha=1.0, class_prior=None, fit_prior=True)"
      ]
     },
     "execution_count": 40,
     "metadata": {},
     "output_type": "execute_result"
    }
   ],
   "source": [
    "classifier = MultinomialNB()\n",
    "classifier.fit(counts, targets)"
   ]
  },
  {
   "cell_type": "code",
   "execution_count": 41,
   "metadata": {
    "collapsed": false
   },
   "outputs": [],
   "source": [
    "# print(data['message'].shape)\n",
    "# print(counts.shape)"
   ]
  },
  {
   "cell_type": "code",
   "execution_count": 42,
   "metadata": {
    "collapsed": false
   },
   "outputs": [],
   "source": [
    "# data['message'][0]"
   ]
  },
  {
   "cell_type": "code",
   "execution_count": 43,
   "metadata": {
    "collapsed": false
   },
   "outputs": [],
   "source": [
    "# print(counts[0])"
   ]
  },
  {
   "cell_type": "code",
   "execution_count": 53,
   "metadata": {
    "collapsed": false
   },
   "outputs": [],
   "source": [
    "examples = [\"Hi raj\", \"Free chatting offer raj\",\"Free Free Viagra now Fight The Risk of Cancer!\"]\n",
    "example_counts = vectorizer.transform(examples)"
   ]
  },
  {
   "cell_type": "code",
   "execution_count": 54,
   "metadata": {
    "collapsed": false
   },
   "outputs": [
    {
     "name": "stdout",
     "output_type": "stream",
     "text": [
      "  (0, 17219)\t1\n",
      "  (1, 15381)\t1\n",
      "  (1, 25068)\t1\n",
      "  (2, 9808)\t1\n",
      "  (2, 14922)\t1\n",
      "  (2, 15381)\t2\n",
      "  (2, 24491)\t1\n",
      "  (2, 25046)\t1\n",
      "  (2, 29346)\t1\n",
      "  (2, 32283)\t1\n",
      "  (2, 34519)\t1\n"
     ]
    }
   ],
   "source": [
    "print(example_counts)"
   ]
  },
  {
   "cell_type": "code",
   "execution_count": 55,
   "metadata": {
    "collapsed": false
   },
   "outputs": [
    {
     "data": {
      "text/plain": [
       "array(['ham', 'ham', 'ham'], \n",
       "      dtype='<U4')"
      ]
     },
     "execution_count": 55,
     "metadata": {},
     "output_type": "execute_result"
    }
   ],
   "source": [
    "predictions = classifier.predict(example_counts)\n",
    "predictions"
   ]
  },
  {
   "cell_type": "code",
   "execution_count": null,
   "metadata": {
    "collapsed": true
   },
   "outputs": [],
   "source": []
  }
 ],
 "metadata": {
  "kernelspec": {
   "display_name": "Python 3",
   "language": "python",
   "name": "python3"
  },
  "language_info": {
   "codemirror_mode": {
    "name": "ipython",
    "version": 3
   },
   "file_extension": ".py",
   "mimetype": "text/x-python",
   "name": "python",
   "nbconvert_exporter": "python",
   "pygments_lexer": "ipython3",
   "version": "3.5.3"
  }
 },
 "nbformat": 4,
 "nbformat_minor": 0
}
