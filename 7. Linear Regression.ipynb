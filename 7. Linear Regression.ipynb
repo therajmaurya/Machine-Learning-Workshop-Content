{
 "cells": [
  {
   "cell_type": "code",
   "execution_count": 1,
   "metadata": {
    "collapsed": true
   },
   "outputs": [],
   "source": [
    "import matplotlib.pyplot as plt\n",
    "import numpy as np\n",
    "from sklearn import datasets, linear_model\n",
    "from sklearn.metrics import mean_squared_error, r2_score"
   ]
  },
  {
   "cell_type": "code",
   "execution_count": 2,
   "metadata": {
    "collapsed": true
   },
   "outputs": [],
   "source": [
    "# Load the diabetes dataset\n",
    "diabetes = datasets.load_diabetes()"
   ]
  },
  {
   "cell_type": "code",
   "execution_count": 9,
   "metadata": {
    "collapsed": false
   },
   "outputs": [
    {
     "data": {
      "text/plain": [
       "array([[ 0.03807591,  0.05068012,  0.06169621, ..., -0.00259226,\n",
       "         0.01990842, -0.01764613],\n",
       "       [-0.00188202, -0.04464164, -0.05147406, ..., -0.03949338,\n",
       "        -0.06832974, -0.09220405],\n",
       "       [ 0.08529891,  0.05068012,  0.04445121, ..., -0.00259226,\n",
       "         0.00286377, -0.02593034],\n",
       "       ..., \n",
       "       [ 0.04170844,  0.05068012, -0.01590626, ..., -0.01107952,\n",
       "        -0.04687948,  0.01549073],\n",
       "       [-0.04547248, -0.04464164,  0.03906215, ...,  0.02655962,\n",
       "         0.04452837, -0.02593034],\n",
       "       [-0.04547248, -0.04464164, -0.0730303 , ..., -0.03949338,\n",
       "        -0.00421986,  0.00306441]])"
      ]
     },
     "execution_count": 9,
     "metadata": {},
     "output_type": "execute_result"
    }
   ],
   "source": [
    "diabetes.data"
   ]
  },
  {
   "cell_type": "code",
   "execution_count": 13,
   "metadata": {
    "collapsed": false
   },
   "outputs": [
    {
     "data": {
      "text/plain": [
       "array([ 151.,   75.,  141.,  206.,  135.,   97.,  138.,   63.,  110.,\n",
       "        310.,  101.,   69.,  179.,  185.,  118.,  171.,  166.,  144.,\n",
       "         97.,  168.,   68.,   49.,   68.,  245.,  184.,  202.,  137.,\n",
       "         85.,  131.,  283.,  129.,   59.,  341.,   87.,   65.,  102.,\n",
       "        265.,  276.,  252.,   90.,  100.,   55.,   61.,   92.,  259.,\n",
       "         53.,  190.,  142.,   75.,  142.,  155.,  225.,   59.,  104.,\n",
       "        182.,  128.,   52.,   37.,  170.,  170.,   61.,  144.,   52.,\n",
       "        128.,   71.,  163.,  150.,   97.,  160.,  178.,   48.,  270.,\n",
       "        202.,  111.,   85.,   42.,  170.,  200.,  252.,  113.,  143.,\n",
       "         51.,   52.,  210.,   65.,  141.,   55.,  134.,   42.,  111.,\n",
       "         98.,  164.,   48.,   96.,   90.,  162.,  150.,  279.,   92.,\n",
       "         83.,  128.,  102.,  302.,  198.,   95.,   53.,  134.,  144.,\n",
       "        232.,   81.,  104.,   59.,  246.,  297.,  258.,  229.,  275.,\n",
       "        281.,  179.,  200.,  200.,  173.,  180.,   84.,  121.,  161.,\n",
       "         99.,  109.,  115.,  268.,  274.,  158.,  107.,   83.,  103.,\n",
       "        272.,   85.,  280.,  336.,  281.,  118.,  317.,  235.,   60.,\n",
       "        174.,  259.,  178.,  128.,   96.,  126.,  288.,   88.,  292.,\n",
       "         71.,  197.,  186.,   25.,   84.,   96.,  195.,   53.,  217.,\n",
       "        172.,  131.,  214.,   59.,   70.,  220.,  268.,  152.,   47.,\n",
       "         74.,  295.,  101.,  151.,  127.,  237.,  225.,   81.,  151.,\n",
       "        107.,   64.,  138.,  185.,  265.,  101.,  137.,  143.,  141.,\n",
       "         79.,  292.,  178.,   91.,  116.,   86.,  122.,   72.,  129.,\n",
       "        142.,   90.,  158.,   39.,  196.,  222.,  277.,   99.,  196.,\n",
       "        202.,  155.,   77.,  191.,   70.,   73.,   49.,   65.,  263.,\n",
       "        248.,  296.,  214.,  185.,   78.,   93.,  252.,  150.,   77.,\n",
       "        208.,   77.,  108.,  160.,   53.,  220.,  154.,  259.,   90.,\n",
       "        246.,  124.,   67.,   72.,  257.,  262.,  275.,  177.,   71.,\n",
       "         47.,  187.,  125.,   78.,   51.,  258.,  215.,  303.,  243.,\n",
       "         91.,  150.,  310.,  153.,  346.,   63.,   89.,   50.,   39.,\n",
       "        103.,  308.,  116.,  145.,   74.,   45.,  115.,  264.,   87.,\n",
       "        202.,  127.,  182.,  241.,   66.,   94.,  283.,   64.,  102.,\n",
       "        200.,  265.,   94.,  230.,  181.,  156.,  233.,   60.,  219.,\n",
       "         80.,   68.,  332.,  248.,   84.,  200.,   55.,   85.,   89.,\n",
       "         31.,  129.,   83.,  275.,   65.,  198.,  236.,  253.,  124.,\n",
       "         44.,  172.,  114.,  142.,  109.,  180.,  144.,  163.,  147.,\n",
       "         97.,  220.,  190.,  109.,  191.,  122.,  230.,  242.,  248.,\n",
       "        249.,  192.,  131.,  237.,   78.,  135.,  244.,  199.,  270.,\n",
       "        164.,   72.,   96.,  306.,   91.,  214.,   95.,  216.,  263.,\n",
       "        178.,  113.,  200.,  139.,  139.,   88.,  148.,   88.,  243.,\n",
       "         71.,   77.,  109.,  272.,   60.,   54.,  221.,   90.,  311.,\n",
       "        281.,  182.,  321.,   58.,  262.,  206.,  233.,  242.,  123.,\n",
       "        167.,   63.,  197.,   71.,  168.,  140.,  217.,  121.,  235.,\n",
       "        245.,   40.,   52.,  104.,  132.,   88.,   69.,  219.,   72.,\n",
       "        201.,  110.,   51.,  277.,   63.,  118.,   69.,  273.,  258.,\n",
       "         43.,  198.,  242.,  232.,  175.,   93.,  168.,  275.,  293.,\n",
       "        281.,   72.,  140.,  189.,  181.,  209.,  136.,  261.,  113.,\n",
       "        131.,  174.,  257.,   55.,   84.,   42.,  146.,  212.,  233.,\n",
       "         91.,  111.,  152.,  120.,   67.,  310.,   94.,  183.,   66.,\n",
       "        173.,   72.,   49.,   64.,   48.,  178.,  104.,  132.,  220.,   57.])"
      ]
     },
     "execution_count": 13,
     "metadata": {},
     "output_type": "execute_result"
    }
   ],
   "source": [
    "diabetes.target"
   ]
  },
  {
   "cell_type": "code",
   "execution_count": 17,
   "metadata": {
    "collapsed": true
   },
   "outputs": [],
   "source": [
    "# Use only one feature\n",
    "diabetes_X = diabetes.data[:, np.newaxis, 2]"
   ]
  },
  {
   "cell_type": "code",
   "execution_count": 18,
   "metadata": {
    "collapsed": true
   },
   "outputs": [],
   "source": [
    "# Split the data into training/testing sets\n",
    "diabetes_X_train = diabetes_X[:-20]\n",
    "diabetes_X_test = diabetes_X[-20:]"
   ]
  },
  {
   "cell_type": "code",
   "execution_count": 19,
   "metadata": {
    "collapsed": true
   },
   "outputs": [],
   "source": [
    "# Split the targets into training/testing sets\n",
    "diabetes_y_train = diabetes.target[:-20]\n",
    "diabetes_y_test = diabetes.target[-20:]"
   ]
  },
  {
   "cell_type": "code",
   "execution_count": 20,
   "metadata": {
    "collapsed": true
   },
   "outputs": [],
   "source": [
    "# Create linear regression object\n",
    "regr = linear_model.LinearRegression()"
   ]
  },
  {
   "cell_type": "code",
   "execution_count": 21,
   "metadata": {
    "collapsed": false
   },
   "outputs": [
    {
     "data": {
      "text/plain": [
       "LinearRegression(copy_X=True, fit_intercept=True, n_jobs=1, normalize=False)"
      ]
     },
     "execution_count": 21,
     "metadata": {},
     "output_type": "execute_result"
    }
   ],
   "source": [
    "# Train the model using the training sets\n",
    "regr.fit(diabetes_X_train, diabetes_y_train)"
   ]
  },
  {
   "cell_type": "code",
   "execution_count": 22,
   "metadata": {
    "collapsed": true
   },
   "outputs": [],
   "source": [
    "# Make predictions using the testing set\n",
    "diabetes_y_pred = regr.predict(diabetes_X_test)"
   ]
  },
  {
   "cell_type": "code",
   "execution_count": 23,
   "metadata": {
    "collapsed": false
   },
   "outputs": [
    {
     "name": "stdout",
     "output_type": "stream",
     "text": [
      "Coefficients: \n",
      " [ 938.23786125]\n",
      "Mean squared error: 2548.07\n",
      "Variance score: 0.47\n"
     ]
    }
   ],
   "source": [
    "# The coefficients\n",
    "print('Coefficients: \\n', regr.coef_)\n",
    "\n",
    "# The mean squared error\n",
    "print(\"Mean squared error: %.2f\"\n",
    "      % mean_squared_error(diabetes_y_test, diabetes_y_pred))\n",
    "# Explained variance score: 1 is perfect prediction\n",
    "print('Variance score: %.2f' % r2_score(diabetes_y_test, diabetes_y_pred))"
   ]
  },
  {
   "cell_type": "code",
   "execution_count": 25,
   "metadata": {
    "collapsed": false
   },
   "outputs": [
    {
     "data": {
      "image/png": "[encoded data removed]",
      "text/plain": [
       "<matplotlib.figure.Figure at 0x28b3cae31d0>"
      ]
     },
     "metadata": {},
     "output_type": "display_data"
    }
   ],
   "source": [
    "# Plot outputs\n",
    "\n",
    "%matplotlib inline\n",
    "\n",
    "plt.scatter(diabetes_X_test, diabetes_y_test,  color='black')\n",
    "plt.plot(diabetes_X_test, diabetes_y_pred, color='blue', linewidth=3)\n",
    "\n",
    "plt.xticks(())\n",
    "plt.yticks(())\n",
    "\n",
    "plt.show()"
   ]
  },
  {
   "cell_type": "code",
   "execution_count": null,
   "metadata": {
    "collapsed": true
   },
   "outputs": [],
   "source": []
  }
 ],
 "metadata": {
  "kernelspec": {
   "display_name": "Python 3",
   "language": "python",
   "name": "python3"
  },
  "language_info": {
   "codemirror_mode": {
    "name": "ipython",
    "version": 3
   },
   "file_extension": ".py",
   "mimetype": "text/x-python",
   "name": "python",
   "nbconvert_exporter": "python",
   "pygments_lexer": "ipython3",
   "version": "3.5.3"
  }
 },
 "nbformat": 4,
 "nbformat_minor": 0
}
