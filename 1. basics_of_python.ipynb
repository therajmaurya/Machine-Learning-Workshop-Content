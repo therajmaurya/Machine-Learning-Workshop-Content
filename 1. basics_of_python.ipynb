{
 "cells": [
  {
   "cell_type": "markdown",
   "metadata": {},
   "source": [
    "Python is a general-purpose, versatile and popular programming language."
   ]
  },
  {
   "cell_type": "markdown",
   "metadata": {},
   "source": [
    "Python comes in two version 2.x and 3.x \n",
    "For demo we are using python 3.x"
   ]
  },
  {
   "cell_type": "markdown",
   "metadata": {},
   "source": [
    "# Variables\n",
    "A variable stores a piece of data, and gives it a specific name.\n",
    "\n",
    "Here are examples of python variables."
   ]
  },
  {
   "cell_type": "code",
   "execution_count": 2,
   "metadata": {
    "collapsed": true
   },
   "outputs": [],
   "source": [
    "var1=10\n",
    "var2=\"hello\" #strings\n",
    "var3=12.4344\n",
    "var4=True  #boolean value"
   ]
  },
  {
   "cell_type": "markdown",
   "metadata": {},
   "source": [
    "print statement:"
   ]
  },
  {
   "cell_type": "code",
   "execution_count": 3,
   "metadata": {
    "collapsed": false
   },
   "outputs": [
    {
     "name": "stdout",
     "output_type": "stream",
     "text": [
      "12\n",
      "hello world\n",
      "\n",
      "\n",
      "6\n",
      "100.23\n"
     ]
    }
   ],
   "source": [
    "print(12)\n",
    "print(\"hello world\\n\\n\") #newline \"\\n\"\n",
    "print(1+5)\n",
    "var=100.23\n",
    "print(var)"
   ]
  },
  {
   "cell_type": "markdown",
   "metadata": {},
   "source": [
    "# Comments"
   ]
  },
  {
   "cell_type": "code",
   "execution_count": 4,
   "metadata": {
    "collapsed": false
   },
   "outputs": [
    {
     "name": "stdout",
     "output_type": "stream",
     "text": [
      "this is not comment\n"
     ]
    },
    {
     "data": {
      "text/plain": [
       "'\\nthis is multiline comment\\n'"
      ]
     },
     "execution_count": 4,
     "metadata": {},
     "output_type": "execute_result"
    }
   ],
   "source": [
    "print(\"this is not comment\") #this is comment,  \n",
    "4\n",
    "\"\"\"\n",
    "this is multiline comment\n",
    "\"\"\""
   ]
  },
  {
   "cell_type": "markdown",
   "metadata": {},
   "source": [
    "# Arithmetic Operations"
   ]
  },
  {
   "cell_type": "code",
   "execution_count": 5,
   "metadata": {
    "collapsed": false
   },
   "outputs": [
    {
     "name": "stdout",
     "output_type": "stream",
     "text": [
      "95 12.0 54.0 12.0 1\n"
     ]
    },
    {
     "data": {
      "text/plain": [
       "8"
      ]
     },
     "execution_count": 5,
     "metadata": {},
     "output_type": "execute_result"
    }
   ],
   "source": [
    "add = 72 + 23\n",
    "sub = 108 - 204\n",
    "multi = 108 * 0.5\n",
    "div = 108 / 9\n",
    "\n",
    "\n",
    "print(add, div, multi, div,5%4)\n",
    "\n",
    "eight = 2 ** 3 #power operator\n",
    "\n",
    "eight\n",
    "\n",
    "\n"
   ]
  },
  {
   "cell_type": "markdown",
   "metadata": {},
   "source": [
    "# Strings"
   ]
  },
  {
   "cell_type": "code",
   "execution_count": 6,
   "metadata": {
    "collapsed": false
   },
   "outputs": [
    {
     "name": "stdout",
     "output_type": "stream",
     "text": [
      "c\n",
      "catdog\n"
     ]
    },
    {
     "data": {
      "text/plain": [
       "17"
      ]
     },
     "execution_count": 6,
     "metadata": {},
     "output_type": "execute_result"
    }
   ],
   "source": [
    "c=\"cat\"\n",
    "print(c[0])    # printing first character of \"cat\"\n",
    "d=\"dog\"\n",
    "print(c+d) #concatenation\n",
    "length = len(\"count_the_letters\")  #length of the strings\n",
    "\n",
    "length\n"
   ]
  },
  {
   "cell_type": "markdown",
   "metadata": {},
   "source": [
    "some more operation"
   ]
  },
  {
   "cell_type": "code",
   "execution_count": 7,
   "metadata": {
    "collapsed": false
   },
   "outputs": [
    {
     "name": "stdout",
     "output_type": "stream",
     "text": [
      "bigdata\n",
      "BIGDATA\n"
     ]
    }
   ],
   "source": [
    "mystr=\"BigData\"\n",
    "lower= mystr.lower()\n",
    "print(lower)\n",
    "print(\"BigData\".upper())"
   ]
  },
  {
   "cell_type": "code",
   "execution_count": 8,
   "metadata": {
    "collapsed": false
   },
   "outputs": [
    {
     "name": "stdout",
     "output_type": "stream",
     "text": [
      "My name is Anonymous and age is -1\n"
     ]
    }
   ],
   "source": [
    "#Alternate print statement\n",
    "n=\"Anonymous\"\n",
    "a=-1\n",
    "print(\"My name is %s and age is %d\"%(n,a))  #Remember C..."
   ]
  },
  {
   "cell_type": "markdown",
   "metadata": {},
   "source": [
    "# Type Casting"
   ]
  },
  {
   "cell_type": "code",
   "execution_count": 9,
   "metadata": {
    "collapsed": false
   },
   "outputs": [
    {
     "name": "stdout",
     "output_type": "stream",
     "text": [
      "<class 'int'>\n",
      "<class 'str'>\n"
     ]
    }
   ],
   "source": [
    "a=10\n",
    "print(type(a))\n",
    "a=str(a)\n",
    "print(type(a))"
   ]
  },
  {
   "cell_type": "code",
   "execution_count": 11,
   "metadata": {
    "collapsed": false
   },
   "outputs": [
    {
     "name": "stdout",
     "output_type": "stream",
     "text": [
      "Enter something  10\n",
      "<class 'str'>\n",
      "Enter a number   10\n",
      "<class 'str'>\n",
      "Enter a number  10\n",
      "<class 'int'>\n"
     ]
    }
   ],
   "source": [
    "# Taking input from keyboard\n",
    "\n",
    "ip1=input(\"Enter something  \")\n",
    "print(type(ip1))\n",
    "\n",
    "ip2=input(\"Enter a number   \")\n",
    "print(type(ip2)) \n",
    "\n",
    "\n",
    "#thats why we need type casting\n",
    "\n",
    "ip2=int(input(\"Enter a number  \"))\n",
    "print(type(ip2)) "
   ]
  },
  {
   "cell_type": "markdown",
   "metadata": {},
   "source": [
    "# Python list or is it Array"
   ]
  },
  {
   "cell_type": "code",
   "execution_count": 12,
   "metadata": {
    "collapsed": false
   },
   "outputs": [
    {
     "name": "stdout",
     "output_type": "stream",
     "text": [
      "[5, 6, 7, 8]\n",
      "5\n",
      "[5, 6, 7]\n",
      "['big', 2, 2.43, False]\n"
     ]
    }
   ],
   "source": [
    "numbers = [5, 6, 7, 8]\n",
    "print(numbers) #prints the whole list\n",
    "\n",
    "print(numbers[0]) #prints first element of the list\n",
    "\n",
    "print(numbers[0:3])  #prints first three elements. This is called list slicing \n",
    "\n",
    "#list are not array\n",
    "notArray=[\"big\", 2, 2.43, False]\n",
    "print(notArray)"
   ]
  },
  {
   "cell_type": "markdown",
   "metadata": {},
   "source": [
    "more on python list"
   ]
  },
  {
   "cell_type": "code",
   "execution_count": 13,
   "metadata": {
    "collapsed": false
   },
   "outputs": [
    {
     "name": "stdout",
     "output_type": "stream",
     "text": [
      "[12, 5, 4, 1, 54, 100]\n",
      "sorted list is  [1, 4, 5, 12, 54, 100]\n",
      "length of list is 6\n"
     ]
    }
   ],
   "source": [
    "mylist=[12,5,4,1,54,2]\n",
    "\n",
    "mylist[-1]=100  #changing the last element\n",
    "\n",
    "print(mylist) \n",
    "\n",
    "mylist.sort()  #sorts the list\n",
    "print(\"sorted list is \", mylist)\n",
    "\n",
    "print(\"length of list is %d\"%len(mylist))\n"
   ]
  },
  {
   "cell_type": "code",
   "execution_count": 14,
   "metadata": {
    "collapsed": false
   },
   "outputs": [
    {
     "name": "stdout",
     "output_type": "stream",
     "text": [
      "[1, 4, 5, 12, 54, 100, 'Iam_last']\n"
     ]
    }
   ],
   "source": [
    "#appending elemets to list\n",
    "#taking mylist\n",
    "\n",
    "mylist.append(\"Iam_last\")\n",
    "print(mylist)\n",
    "\n"
   ]
  },
  {
   "cell_type": "markdown",
   "metadata": {},
   "source": [
    "# Multidimensional list"
   ]
  },
  {
   "cell_type": "code",
   "execution_count": 15,
   "metadata": {
    "collapsed": false
   },
   "outputs": [
    {
     "name": "stdout",
     "output_type": "stream",
     "text": [
      "[1, 2, 3]\n",
      "1\n"
     ]
    }
   ],
   "source": [
    "mylist=[[1,2,3],[4,5,6],[7,8,9]]\n",
    "\n",
    "print(mylist[0])  #prints first row\n",
    "\n",
    "print(mylist[0][0]) #prints first element of 3x3 matrix\n",
    "\n",
    "\n",
    "#more on multi dimensional array/list  will be in numpy tutorials\n"
   ]
  },
  {
   "cell_type": "markdown",
   "metadata": {},
   "source": [
    "# Dictionaries"
   ]
  },
  {
   "cell_type": "markdown",
   "metadata": {},
   "source": [
    "Dictionary uses key/value pairs to store data.\n",
    "Like Lists, Dictionaries are mutable.\n",
    "This means they can be changed after they are created.\n"
   ]
  },
  {
   "cell_type": "code",
   "execution_count": 16,
   "metadata": {
    "collapsed": false
   },
   "outputs": [
    {
     "name": "stdout",
     "output_type": "stream",
     "text": [
      "{'second': 2, 'first': 1, 'third': 'bid_data'}\n",
      "-1\n"
     ]
    }
   ],
   "source": [
    "Dict={\"first\":1,\"second\":2,'third':\"bid_data\"}  #declaration or assignment\n",
    "\n",
    "print(Dict)\n",
    "\n",
    "Dict['first']=-1     #changing value of 'first'\n",
    "print(Dict['first'])\n",
    "      \n",
    "del Dict['first']\n",
    "#print(Dict['first'])\n",
    "      "
   ]
  },
  {
   "cell_type": "markdown",
   "metadata": {},
   "source": [
    "# Control statements"
   ]
  },
  {
   "cell_type": "markdown",
   "metadata": {},
   "source": [
    "Python if-else"
   ]
  },
  {
   "cell_type": "markdown",
   "metadata": {},
   "source": [
    "if condition(s):\n",
    "    \n",
    "    statements\n",
    "    \n",
    "else:\n",
    "    \n",
    "    statements\n",
    "   \n",
    "Note: Be carefull about indentaion."
   ]
  },
  {
   "cell_type": "code",
   "execution_count": 17,
   "metadata": {
    "collapsed": false
   },
   "outputs": [
    {
     "name": "stdout",
     "output_type": "stream",
     "text": [
      "we all know that\n"
     ]
    }
   ],
   "source": [
    "if 1>2:\n",
    "    print(\"you are alien\")\n",
    "else:\n",
    "    print(\"we all know that\")"
   ]
  },
  {
   "cell_type": "code",
   "execution_count": 18,
   "metadata": {
    "collapsed": false
   },
   "outputs": [
    {
     "name": "stdout",
     "output_type": "stream",
     "text": [
      "hi.....\n"
     ]
    }
   ],
   "source": [
    "#more on if-else\n",
    "\n",
    "if 1>2 and 1<2:     #see the usage of 'and' \n",
    "    print(\"will not run\")\n",
    "\n",
    "elif 1>=2 or \"a\"==\"b\":\n",
    "    print(\"will not run\")\n",
    "\n",
    "elif 'a' != 'b':\n",
    "    print(\"hi.....\")\n",
    "\n",
    "else:\n",
    "    pass       #this will do nothing\n"
   ]
  },
  {
   "cell_type": "markdown",
   "metadata": {},
   "source": [
    "# Loops "
   ]
  },
  {
   "cell_type": "code",
   "execution_count": 19,
   "metadata": {
    "collapsed": false
   },
   "outputs": [
    {
     "name": "stdout",
     "output_type": "stream",
     "text": [
      "10 9 8 7 6 5 4 3 2 1 "
     ]
    }
   ],
   "source": [
    "#while loop\n",
    "i=10\n",
    "while(i>0):\n",
    "    print(i,end=' ')\n",
    "    i=i-1\n"
   ]
  },
  {
   "cell_type": "code",
   "execution_count": 20,
   "metadata": {
    "collapsed": false
   },
   "outputs": [
    {
     "name": "stdout",
     "output_type": "stream",
     "text": [
      "1 2 3 4 5 6 7 8 9 10 "
     ]
    }
   ],
   "source": [
    "# for loop \n",
    "for i in range(1,11):\n",
    "    print(i,end=' ')\n",
    "    \n",
    "    "
   ]
  },
  {
   "cell_type": "markdown",
   "metadata": {},
   "source": [
    "more on for loops"
   ]
  },
  {
   "cell_type": "code",
   "execution_count": 21,
   "metadata": {
    "collapsed": false
   },
   "outputs": [
    {
     "name": "stdout",
     "output_type": "stream",
     "text": [
      "10 9 8 7 6 5 4 3 2 1 "
     ]
    }
   ],
   "source": [
    "mylist=[]\n",
    "for i in range(10,0,-1):\n",
    "    mylist.append(i)\n",
    "\n",
    "for i in mylist:\n",
    "    print(i,end= ' ')"
   ]
  },
  {
   "cell_type": "markdown",
   "metadata": {},
   "source": [
    "# Functions"
   ]
  },
  {
   "cell_type": "code",
   "execution_count": 22,
   "metadata": {
    "collapsed": false
   },
   "outputs": [
    {
     "name": "stdout",
     "output_type": "stream",
     "text": [
      "are u calling me\n"
     ]
    }
   ],
   "source": [
    "#definition\n",
    "def myfunc():\n",
    "    #statements\n",
    "    print(\"are u calling me\")    \n",
    "    return \n",
    "\n",
    "#calling\n",
    "myfunc()"
   ]
  },
  {
   "cell_type": "code",
   "execution_count": 23,
   "metadata": {
    "collapsed": false
   },
   "outputs": [
    {
     "name": "stdout",
     "output_type": "stream",
     "text": [
      "16\n"
     ]
    }
   ],
   "source": [
    "#function returing values\n",
    "def square(arg):\n",
    "    arg=arg**2\n",
    "    return arg\n",
    "\n",
    "\n",
    "print(square(4))"
   ]
  },
  {
   "cell_type": "code",
   "execution_count": null,
   "metadata": {
    "collapsed": true
   },
   "outputs": [],
   "source": []
  }
 ],
 "metadata": {
  "kernelspec": {
   "display_name": "Python 3",
   "language": "python",
   "name": "python3"
  },
  "language_info": {
   "codemirror_mode": {
    "name": "ipython",
    "version": 3
   },
   "file_extension": ".py",
   "mimetype": "text/x-python",
   "name": "python",
   "nbconvert_exporter": "python",
   "pygments_lexer": "ipython3",
   "version": "3.5.3"
  }
 },
 "nbformat": 4,
 "nbformat_minor": 2
}
